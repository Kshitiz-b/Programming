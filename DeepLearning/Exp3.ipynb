{
 "cells": [
  {
   "cell_type": "code",
   "execution_count": 1,
   "metadata": {},
   "outputs": [],
   "source": [
    "import numpy as np\n",
    "# Sigmoid activation function\n",
    "def sigmoid(x):\n",
    "    return 1 / (1 + np.exp (-x))\n",
    "# Derivative of sigmoid function\n",
    "def sigmoid_derivative(x):\n",
    "    return x * (1 - x)\n",
    "# Training data\n",
    "inputs = np.array([[0.1, 0.2]])\n",
    "target = np.array([[0.3]])\n",
    "# Initialize weights and biases randomly\n",
    "np. random.seed (42)\n",
    "weights_input_hidden = np. random. rand (2, 2)\n",
    "weights_hidden_output = np. random.rand (2, 1)\n",
    "bias_hidden = np.random.rand (1, 2)\n",
    "bias_output = np. random. rand (1, 1)\n",
    "# Learning rate\n",
    "learning_rate = 0.1\n",
    "\n",
    "# 21BCE2067 Kshitiz Bhargava"
   ]
  },
  {
   "cell_type": "code",
   "execution_count": 2,
   "metadata": {},
   "outputs": [],
   "source": [
    "def forward_pass (inputs):\n",
    "    hidden_input = np.dot (inputs, weights_input_hidden) + bias_hidden\n",
    "    hidden_output = sigmoid (hidden_input)\n",
    "    final_input = np. dot(hidden_output, weights_hidden_output) + bias_output\n",
    "    final_output = sigmoid(final_input)\n",
    "    return hidden_output, final_output\n",
    "# Backward pass\n",
    "def backward_pass(inputs, hidden_output, final_output, target):\n",
    "    global weights_hidden_output, weights_input_hidden, bias_hidden, bias_output\n",
    "# Calculate error\n",
    "    output_error = final_output - target\n",
    "    output_delta = output_error * sigmoid_derivative(final_output)\n",
    "# Calculate error for hidden layer\n",
    "    hidden_error = output_delta.dot(weights_hidden_output.T)\n",
    "    hidden_delta = hidden_error * sigmoid_derivative(hidden_output)\n",
    "# Update weights and biases\n",
    "    weights_hidden_output -= learning_rate * hidden_output.T.dot(output_delta)\n",
    "    bias_output -= learning_rate * output_delta\n",
    "    weights_input_hidden -= learning_rate * inputs.T.dot(hidden_delta)\n",
    "    bias_hidden -= learning_rate * hidden_delta\n",
    "    \n",
    "#21BCE2067 Kshitiz Bhargava"
   ]
  },
  {
   "cell_type": "code",
   "execution_count": 3,
   "metadata": {},
   "outputs": [
    {
     "name": "stdout",
     "output_type": "stream",
     "text": [
      "Epoch 0, Loss: 0.15291348376115038\n",
      "Epoch 1000, Loss: 2.151968043217146e-09\n",
      "Epoch 2000, Loss: 1.041305144536541e-16\n",
      "Epoch 3000, Loss: 5.040442580431566e-24\n",
      "Epoch 4000, Loss: 1.6301071049293564e-30\n",
      "Epoch 5000, Loss: 1.6301071049293564e-30\n",
      "Epoch 6000, Loss: 1.6301071049293564e-30\n",
      "Epoch 7000, Loss: 1.6301071049293564e-30\n",
      "Epoch 8000, Loss: 1.6301071049293564e-30\n",
      "Epoch 9000, Loss: 1.6301071049293564e-30\n",
      "Final Output: [[0.3]]\n"
     ]
    }
   ],
   "source": [
    "for epoch in range (10000):\n",
    "    hidden_output, final_output = forward_pass(inputs)\n",
    "    backward_pass(inputs, hidden_output, final_output, target)\n",
    "    if epoch % 1000 == 0:\n",
    "        loss = np.mean ((target - final_output) ** 2)\n",
    "        print(f\"Epoch {epoch}, Loss: {loss}\")\n",
    "# Final output after training\n",
    "_, final_output = forward_pass (inputs)\n",
    "print(f\"Final Output: {final_output}\")\n",
    "\n",
    "#21BCE2067 Kshitiz Bhargava "
   ]
  }
 ],
 "metadata": {
  "kernelspec": {
   "display_name": ".venv",
   "language": "python",
   "name": "python3"
  },
  "language_info": {
   "codemirror_mode": {
    "name": "ipython",
    "version": 3
   },
   "file_extension": ".py",
   "mimetype": "text/x-python",
   "name": "python",
   "nbconvert_exporter": "python",
   "pygments_lexer": "ipython3",
   "version": "3.11.9"
  }
 },
 "nbformat": 4,
 "nbformat_minor": 2
}
