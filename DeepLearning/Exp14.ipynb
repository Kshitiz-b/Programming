{
 "cells": [
  {
   "cell_type": "code",
   "execution_count": 1,
   "metadata": {},
   "outputs": [
    {
     "name": "stdout",
     "output_type": "stream",
     "text": [
      "Number of rows in the raw dataset: 144\n",
      "Number of rows in the scaled dataset: 144\n"
     ]
    }
   ],
   "source": [
    "import numpy as np\n",
    "import pandas as pd\n",
    "import tensorflow as tf\n",
    "from sklearn.preprocessing import MinMaxScaler\n",
    "from sklearn.model_selection import train_test_split\n",
    "import matplotlib.pyplot as plt\n",
    "\n",
    "# Load the Airline Passengers Dataset\n",
    "url = \"https://raw.githubusercontent.com/jbrownlee/Datasets/master/airline-passengers.csv\"\n",
    "data = pd.read_csv(url)\n",
    "\n",
    "# Check the size of the dataset before scaling\n",
    "print(\"Number of rows in the raw dataset:\", len(data))\n",
    "\n",
    "# Take only the \"Passengers\" column for simplicity\n",
    "stock_data = data[['Passengers']]\n",
    "\n",
    "# Scale the data\n",
    "scaler = MinMaxScaler(feature_range=(0, 1))\n",
    "scaled_data = scaler.fit_transform(stock_data)\n",
    "\n",
    "# Check the size of the dataset after scaling\n",
    "print(\"Number of rows in the scaled dataset:\", len(scaled_data))\n",
    "\n",
    "# 21BCE2067 Kshitiz Bhargava"
   ]
  },
  {
   "cell_type": "code",
   "execution_count": 2,
   "metadata": {},
   "outputs": [
    {
     "name": "stderr",
     "output_type": "stream",
     "text": [
      "WARNING:absl:At this time, the v2.11+ optimizer `tf.keras.optimizers.Adam` runs slowly on M1/M2 Macs, please use the legacy Keras optimizer instead, located at `tf.keras.optimizers.legacy.Adam`.\n"
     ]
    },
    {
     "name": "stdout",
     "output_type": "stream",
     "text": [
      "Epoch 1/100\n",
      "3/3 [==============================] - 3s 476ms/step - loss: 0.0965 - val_loss: 0.2991\n",
      "Epoch 2/100\n",
      "3/3 [==============================] - 0s 16ms/step - loss: 0.0790 - val_loss: 0.2488\n",
      "Epoch 3/100\n",
      "3/3 [==============================] - 0s 15ms/step - loss: 0.0650 - val_loss: 0.2025\n",
      "Epoch 4/100\n",
      "3/3 [==============================] - 0s 16ms/step - loss: 0.0523 - val_loss: 0.1609\n",
      "Epoch 5/100\n",
      "3/3 [==============================] - 0s 15ms/step - loss: 0.0400 - val_loss: 0.1237\n",
      "Epoch 6/100\n",
      "3/3 [==============================] - 0s 14ms/step - loss: 0.0300 - val_loss: 0.0917\n",
      "Epoch 7/100\n",
      "3/3 [==============================] - 0s 14ms/step - loss: 0.0217 - val_loss: 0.0654\n",
      "Epoch 8/100\n",
      "3/3 [==============================] - 0s 14ms/step - loss: 0.0145 - val_loss: 0.0452\n",
      "Epoch 9/100\n",
      "3/3 [==============================] - 0s 14ms/step - loss: 0.0103 - val_loss: 0.0312\n",
      "Epoch 10/100\n",
      "3/3 [==============================] - 0s 15ms/step - loss: 0.0082 - val_loss: 0.0229\n",
      "Epoch 11/100\n",
      "3/3 [==============================] - 0s 15ms/step - loss: 0.0069 - val_loss: 0.0193\n",
      "Epoch 12/100\n",
      "3/3 [==============================] - 0s 14ms/step - loss: 0.0074 - val_loss: 0.0185\n",
      "Epoch 13/100\n",
      "3/3 [==============================] - 0s 14ms/step - loss: 0.0078 - val_loss: 0.0187\n",
      "Epoch 14/100\n",
      "3/3 [==============================] - 0s 14ms/step - loss: 0.0083 - val_loss: 0.0188\n",
      "Epoch 15/100\n",
      "3/3 [==============================] - 0s 13ms/step - loss: 0.0083 - val_loss: 0.0186\n",
      "Epoch 16/100\n",
      "3/3 [==============================] - 0s 14ms/step - loss: 0.0082 - val_loss: 0.0185\n",
      "Epoch 17/100\n",
      "3/3 [==============================] - 0s 13ms/step - loss: 0.0071 - val_loss: 0.0187\n",
      "Epoch 18/100\n",
      "3/3 [==============================] - 0s 13ms/step - loss: 0.0073 - val_loss: 0.0194\n",
      "Epoch 19/100\n",
      "3/3 [==============================] - 0s 13ms/step - loss: 0.0071 - val_loss: 0.0204\n",
      "Epoch 20/100\n",
      "3/3 [==============================] - 0s 14ms/step - loss: 0.0070 - val_loss: 0.0214\n",
      "Epoch 21/100\n",
      "3/3 [==============================] - 0s 14ms/step - loss: 0.0070 - val_loss: 0.0222\n",
      "Epoch 22/100\n",
      "3/3 [==============================] - 0s 14ms/step - loss: 0.0067 - val_loss: 0.0224\n",
      "Epoch 23/100\n",
      "3/3 [==============================] - 0s 14ms/step - loss: 0.0072 - val_loss: 0.0223\n",
      "Epoch 24/100\n",
      "3/3 [==============================] - 0s 14ms/step - loss: 0.0075 - val_loss: 0.0218\n",
      "Epoch 25/100\n",
      "3/3 [==============================] - 0s 14ms/step - loss: 0.0070 - val_loss: 0.0212\n",
      "Epoch 26/100\n",
      "3/3 [==============================] - 0s 16ms/step - loss: 0.0072 - val_loss: 0.0206\n",
      "3/3 [==============================] - 0s 3ms/step - loss: 0.0075\n",
      "1/1 [==============================] - 0s 11ms/step - loss: 0.0185\n",
      "Training Loss: 0.007518003229051828\n",
      "Test Loss: 0.018454113975167274\n",
      "1/1 [==============================] - 0s 492ms/step\n"
     ]
    },
    {
     "data": {
      "image/png": "[encoded data removed]",
      "text/plain": [
       "<Figure size 640x480 with 1 Axes>"
      ]
     },
     "metadata": {},
     "output_type": "display_data"
    },
    {
     "name": "stdout",
     "output_type": "stream",
     "text": [
      "MAPE (Mean Absolute Percentage Error): 13.83%\n"
     ]
    }
   ],
   "source": [
    "# Define the create_sequences function\n",
    "def create_sequences(data, sequence_length):\n",
    "    sequences = []\n",
    "    labels = []\n",
    "    \n",
    "    if len(data) <= sequence_length:\n",
    "        return np.array(sequences), np.array(labels)\n",
    "\n",
    "    for i in range(sequence_length, len(data)):\n",
    "        sequences.append(data[i-sequence_length:i, 0])\n",
    "        labels.append(data[i, 0])\n",
    "\n",
    "    return np.array(sequences), np.array(labels)\n",
    "\n",
    "# Adjust the sequence length\n",
    "sequence_length = 24  # Use last 24 months for prediction (2 years)\n",
    "X, y = create_sequences(scaled_data, sequence_length)\n",
    "\n",
    "# Reshape for LSTM input\n",
    "if X.size > 0 and y.size > 0:\n",
    "    X = np.reshape(X, (X.shape[0], X.shape[1], 1))\n",
    "\n",
    "    # Split the data into training and test sets\n",
    "    X_train, X_test, y_train, y_test = train_test_split(X, y, test_size=0.2, shuffle=False)\n",
    "\n",
    "    # Build the BiLSTM model\n",
    "    model = tf.keras.Sequential([\n",
    "        tf.keras.layers.Bidirectional(tf.keras.layers.LSTM(50, return_sequences=True, input_shape=(X_train.shape[1], 1))),\n",
    "        tf.keras.layers.Dropout(0.3),  # Regularization with dropout\n",
    "        tf.keras.layers.Bidirectional(tf.keras.layers.LSTM(50)),\n",
    "        tf.keras.layers.Dense(25),\n",
    "        tf.keras.layers.Dense(1)\n",
    "    ])\n",
    "\n",
    "    # Compile the model\n",
    "    optimizer = tf.keras.optimizers.Adam(learning_rate=0.0001)  # Use lower learning rate for stability\n",
    "    model.compile(optimizer=optimizer, loss='mean_squared_error')\n",
    "\n",
    "    # Add early stopping\n",
    "    early_stopping = tf.keras.callbacks.EarlyStopping(monitor='val_loss', patience=10, restore_best_weights=True)\n",
    "\n",
    "    # Train the model\n",
    "    history = model.fit(X_train, y_train, epochs=100, batch_size=32, validation_data=(X_test, y_test), callbacks=[early_stopping])\n",
    "\n",
    "    # Evaluate the model\n",
    "    train_loss = model.evaluate(X_train, y_train)\n",
    "    test_loss = model.evaluate(X_test, y_test)\n",
    "\n",
    "    print(f'Training Loss: {train_loss}')\n",
    "    print(f'Test Loss: {test_loss}')\n",
    "\n",
    "    # Generate predictions\n",
    "    y_pred = model.predict(X_test)\n",
    "\n",
    "    # Inverse scaling\n",
    "    y_test_inverse = scaler.inverse_transform([y_test])\n",
    "    y_pred_inverse = scaler.inverse_transform(y_pred)\n",
    "\n",
    "    # Plot training & validation loss\n",
    "    plt.plot(history.history['loss'])\n",
    "    plt.plot(history.history['val_loss'])\n",
    "    plt.title('Model loss')\n",
    "    plt.ylabel('Loss')\n",
    "    plt.xlabel('Epoch')\n",
    "    plt.legend(['Train', 'Test'], loc='upper right')\n",
    "    plt.show()\n",
    "\n",
    "    # Calculate MAPE (Mean Absolute Percentage Error)\n",
    "    mape = np.mean(np.abs((y_test_inverse - y_pred_inverse) / y_test_inverse)) * 100\n",
    "    print(f'MAPE (Mean Absolute Percentage Error): {mape:.2f}%')\n",
    "else:\n",
    "    print(\"Not enough data to create sequences. Adjust sequence_length or add more data.\")\n",
    "\n",
    "# 21BCE2067 Kshitiz Bhargava"
   ]
  },
  {
   "cell_type": "code",
   "execution_count": null,
   "metadata": {},
   "outputs": [],
   "source": []
  }
 ],
 "metadata": {
  "kernelspec": {
   "display_name": ".venv",
   "language": "python",
   "name": "python3"
  },
  "language_info": {
   "codemirror_mode": {
    "name": "ipython",
    "version": 3
   },
   "file_extension": ".py",
   "mimetype": "text/x-python",
   "name": "python",
   "nbconvert_exporter": "python",
   "pygments_lexer": "ipython3",
   "version": "3.11.10"
  }
 },
 "nbformat": 4,
 "nbformat_minor": 2
}
