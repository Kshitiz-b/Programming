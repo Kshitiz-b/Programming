{
 "cells": [
  {
   "cell_type": "code",
   "execution_count": 1,
   "metadata": {},
   "outputs": [],
   "source": [
    "import os\n",
    "import numpy as np\n",
    "import pandas as pd\n",
    "import cv2\n",
    "from sklearn.model_selection import train_test_split\n",
    "from sklearn.preprocessing import LabelBinarizer\n",
    "import tensorflow as tf\n",
    "from tensorflow.keras.models import Sequential\n",
    "from tensorflow.keras.layers import Conv2D, MaxPooling2D, Flatten, Dense, Dropout\n",
    "from tensorflow.keras.optimizers import Adam\n",
    "\n",
    "# Kshitiz Bhargava 21BCE2067"
   ]
  },
  {
   "cell_type": "code",
   "execution_count": 2,
   "metadata": {},
   "outputs": [],
   "source": [
    "data_dir = \"/Users/kshitiz/GitHub/Programming/DeepLearning/Datasets/LFW/lfw_funneled\"\n",
    "\n",
    "# Image size\n",
    "img_size = 100\n",
    "\n",
    "# Load images and labels\n",
    "def load_images_labels(data_dir, img_size):\n",
    "    images = []\n",
    "    labels = []\n",
    "    for person_name in os.listdir(data_dir):\n",
    "        person_dir = os.path.join(data_dir, person_name)\n",
    "        if os.path.isdir(person_dir):\n",
    "            for img_name in os.listdir(person_dir):\n",
    "                img_path = os.path.join(person_dir, img_name)\n",
    "                img = cv2.imread(img_path)\n",
    "                img = cv2.resize(img, (img_size, img_size))\n",
    "                images.append(img)\n",
    "                labels.append(person_name)\n",
    "    return np.array(images), np.array(labels)\n",
    "\n",
    "images, labels = load_images_labels(data_dir, img_size)\n",
    "\n",
    "# Normalize images\n",
    "images = images.astype('float32') / 255.0\n",
    "\n",
    "# Encode labels\n",
    "label_binarizer = LabelBinarizer()\n",
    "labels = label_binarizer.fit_transform(labels)\n",
    "\n",
    "# Train-test split\n",
    "X_train, X_test, y_train, y_test = train_test_split(images, labels, test_size=0.2, random_state=42)\n",
    "\n",
    "# Kshitiz Bhargava 21BCE2067"
   ]
  },
  {
   "cell_type": "code",
   "execution_count": 3,
   "metadata": {},
   "outputs": [
    {
     "name": "stderr",
     "output_type": "stream",
     "text": [
      "/Users/manvendrasingh/Library/CloudStorage/OneDrive-vit.ac.in/7th Sem/Deep Learning/Lab/.venv/lib/python3.12/site-packages/keras/src/layers/convolutional/base_conv.py:107: UserWarning: Do not pass an `input_shape`/`input_dim` argument to a layer. When using Sequential models, prefer using an `Input(shape)` object as the first layer in the model instead.\n",
      "  super().__init__(activity_regularizer=activity_regularizer, **kwargs)\n"
     ]
    }
   ],
   "source": [
    "model = Sequential()\n",
    "\n",
    "model.add(Conv2D(32, (3, 3), activation='relu', input_shape=(img_size, img_size, 3)))\n",
    "model.add(MaxPooling2D((2, 2)))\n",
    "model.add(Dropout(0.25))\n",
    "\n",
    "model.add(Conv2D(64, (3, 3), activation='relu'))\n",
    "model.add(MaxPooling2D((2, 2)))\n",
    "model.add(Dropout(0.25))\n",
    "\n",
    "model.add(Conv2D(128, (3, 3), activation='relu'))\n",
    "model.add(MaxPooling2D((2, 2)))\n",
    "model.add(Dropout(0.25))\n",
    "\n",
    "model.add(Flatten())\n",
    "model.add(Dense(256, activation='relu'))\n",
    "model.add(Dropout(0.5))\n",
    "model.add(Dense(len(label_binarizer.classes_), activation='softmax'))\n",
    "\n",
    "model.compile(optimizer=Adam(learning_rate=0.001), loss='categorical_crossentropy', metrics=['accuracy'])\n",
    "\n",
    "# Kshitiz Bhargava 21BCE2067"
   ]
  },
  {
   "cell_type": "code",
   "execution_count": 4,
   "metadata": {},
   "outputs": [
    {
     "name": "stdout",
     "output_type": "stream",
     "text": [
      "Epoch 1/10\n",
      "\u001b[1m331/331\u001b[0m \u001b[32m━━━━━━━━━━━━━━━━━━━━\u001b[0m\u001b[37m\u001b[0m \u001b[1m40s\u001b[0m 118ms/step - accuracy: 0.0389 - loss: 8.2359 - val_accuracy: 0.0351 - val_loss: 8.1136\n",
      "Epoch 2/10\n",
      "\u001b[1m331/331\u001b[0m \u001b[32m━━━━━━━━━━━━━━━━━━━━\u001b[0m\u001b[37m\u001b[0m \u001b[1m39s\u001b[0m 117ms/step - accuracy: 0.0443 - loss: 7.7435 - val_accuracy: 0.0351 - val_loss: 8.1720\n",
      "Epoch 3/10\n",
      "\u001b[1m331/331\u001b[0m \u001b[32m━━━━━━━━━━━━━━━━━━━━\u001b[0m\u001b[37m\u001b[0m \u001b[1m39s\u001b[0m 119ms/step - accuracy: 0.0414 - loss: 7.6726 - val_accuracy: 0.0351 - val_loss: 8.2607\n",
      "Epoch 4/10\n",
      "\u001b[1m331/331\u001b[0m \u001b[32m━━━━━━━━━━━━━━━━━━━━\u001b[0m\u001b[37m\u001b[0m \u001b[1m39s\u001b[0m 119ms/step - accuracy: 0.0408 - loss: 7.5420 - val_accuracy: 0.0351 - val_loss: 8.3241\n",
      "Epoch 5/10\n",
      "\u001b[1m331/331\u001b[0m \u001b[32m━━━━━━━━━━━━━━━━━━━━\u001b[0m\u001b[37m\u001b[0m \u001b[1m44s\u001b[0m 132ms/step - accuracy: 0.0457 - loss: 7.3930 - val_accuracy: 0.0363 - val_loss: 8.3779\n",
      "Epoch 6/10\n",
      "\u001b[1m331/331\u001b[0m \u001b[32m━━━━━━━━━━━━━━━━━━━━\u001b[0m\u001b[37m\u001b[0m \u001b[1m40s\u001b[0m 120ms/step - accuracy: 0.0465 - loss: 7.2255 - val_accuracy: 0.0438 - val_loss: 8.3765\n",
      "Epoch 7/10\n",
      "\u001b[1m331/331\u001b[0m \u001b[32m━━━━━━━━━━━━━━━━━━━━\u001b[0m\u001b[37m\u001b[0m \u001b[1m40s\u001b[0m 120ms/step - accuracy: 0.0588 - loss: 7.0012 - val_accuracy: 0.0536 - val_loss: 8.3903\n",
      "Epoch 8/10\n",
      "\u001b[1m331/331\u001b[0m \u001b[32m━━━━━━━━━━━━━━━━━━━━\u001b[0m\u001b[37m\u001b[0m \u001b[1m40s\u001b[0m 121ms/step - accuracy: 0.0660 - loss: 6.8095 - val_accuracy: 0.0582 - val_loss: 8.5936\n",
      "Epoch 9/10\n",
      "\u001b[1m331/331\u001b[0m \u001b[32m━━━━━━━━━━━━━━━━━━━━\u001b[0m\u001b[37m\u001b[0m \u001b[1m40s\u001b[0m 121ms/step - accuracy: 0.0775 - loss: 6.5517 - val_accuracy: 0.0684 - val_loss: 8.7995\n",
      "Epoch 10/10\n",
      "\u001b[1m331/331\u001b[0m \u001b[32m━━━━━━━━━━━━━━━━━━━━\u001b[0m\u001b[37m\u001b[0m \u001b[1m40s\u001b[0m 121ms/step - accuracy: 0.0873 - loss: 6.2165 - val_accuracy: 0.0801 - val_loss: 8.9909\n"
     ]
    }
   ],
   "source": [
    "history = model.fit(X_train, y_train, epochs=10, batch_size=32, validation_data=(X_test, y_test))\n",
    "\n",
    "# Kshitiz Bhargava 21BCE2067"
   ]
  },
  {
   "cell_type": "code",
   "execution_count": 5,
   "metadata": {},
   "outputs": [
    {
     "name": "stdout",
     "output_type": "stream",
     "text": [
      "\u001b[1m83/83\u001b[0m \u001b[32m━━━━━━━━━━━━━━━━━━━━\u001b[0m\u001b[37m\u001b[0m \u001b[1m2s\u001b[0m 29ms/step - accuracy: 0.0721 - loss: 9.0386\n",
      "Test accuracy: 0.08009067177772522\n"
     ]
    }
   ],
   "source": [
    "test_loss, test_acc = model.evaluate(X_test, y_test)\n",
    "print(f'Test accuracy: {test_acc}')\n",
    "\n",
    "# Kshitiz Bhargava 21BCE2067"
   ]
  }
 ],
 "metadata": {
  "kernelspec": {
   "display_name": ".venv",
   "language": "python",
   "name": "python3"
  },
  "language_info": {
   "codemirror_mode": {
    "name": "ipython",
    "version": 3
   },
   "file_extension": ".py",
   "mimetype": "text/x-python",
   "name": "python",
   "nbconvert_exporter": "python",
   "pygments_lexer": "ipython3",
   "version": "3.11.10"
  }
 },
 "nbformat": 4,
 "nbformat_minor": 2
}
