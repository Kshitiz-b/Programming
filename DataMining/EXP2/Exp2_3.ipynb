{
 "cells": [
  {
   "cell_type": "code",
   "execution_count": 1,
   "metadata": {},
   "outputs": [],
   "source": [
    "import pandas as pd\n",
    "from mlxtend.preprocessing import TransactionEncoder\n",
    "from mlxtend.frequent_patterns import apriori\n",
    "\n",
    "# Dataset with NaN values\n",
    "dataset = [\n",
    "    ['Milk', 'Onion', None, 'Kidney Beans', 'Eggs', 'Yogurt'],\n",
    "    ['Dill', 'Onion', 'Nutmeg', 'Kidney Beans', 'Eggs', 'Yogurt'],\n",
    "    ['Milk', 'Apple', 'Kidney Beans', 'Eggs'],\n",
    "    ['Milk', 'Unicorn', 'Corn', None, 'Yogurt'],\n",
    "    ['Corn', 'Onion', None, 'Kidney Beans', 'Ice cream', 'Eggs']\n",
    "]"
   ]
  },
  {
   "cell_type": "code",
   "execution_count": 2,
   "metadata": {},
   "outputs": [
    {
     "name": "stdout",
     "output_type": "stream",
     "text": [
      "Frequent Itemsets with Support Count = 2:\n",
      "    support                             itemsets\n",
      "0       0.4                               (Corn)\n",
      "1       0.8                               (Eggs)\n",
      "2       0.8                       (Kidney Beans)\n",
      "3       0.6                               (Milk)\n",
      "4       0.6                              (Onion)\n",
      "5       0.6                             (Yogurt)\n",
      "6       0.8                 (Eggs, Kidney Beans)\n",
      "7       0.4                         (Eggs, Milk)\n",
      "8       0.6                        (Onion, Eggs)\n",
      "9       0.4                       (Yogurt, Eggs)\n",
      "10      0.4                 (Milk, Kidney Beans)\n",
      "11      0.6                (Onion, Kidney Beans)\n",
      "12      0.4               (Yogurt, Kidney Beans)\n",
      "13      0.4                       (Yogurt, Milk)\n",
      "14      0.4                      (Onion, Yogurt)\n",
      "15      0.4           (Eggs, Milk, Kidney Beans)\n",
      "16      0.6          (Onion, Eggs, Kidney Beans)\n",
      "17      0.4         (Yogurt, Eggs, Kidney Beans)\n",
      "18      0.4                (Onion, Yogurt, Eggs)\n",
      "19      0.4        (Onion, Yogurt, Kidney Beans)\n",
      "20      0.4  (Onion, Yogurt, Eggs, Kidney Beans)\n"
     ]
    }
   ],
   "source": [
    "# Remove None (or NaN) values from transactions\n",
    "cleaned_dataset = [[item for item in transaction if item is not None] for transaction in dataset]\n",
    "\n",
    "# Convert the cleaned dataset into a one-hot encoded DataFrame\n",
    "te = TransactionEncoder()\n",
    "te_ary = te.fit(cleaned_dataset).transform(cleaned_dataset)\n",
    "df = pd.DataFrame(te_ary, columns=te.columns_)\n",
    "\n",
    "# Find frequent itemsets with support count = 2 (i.e., min_support = 2/len(df))\n",
    "frequent_itemsets_2 = apriori(df, min_support=2/len(df), use_colnames=True)\n",
    "\n",
    "print(\"Frequent Itemsets with Support Count = 2:\")\n",
    "print(frequent_itemsets_2)"
   ]
  },
  {
   "cell_type": "markdown",
   "metadata": {},
   "source": [
    "Impact on Frequent Itemsets:\n",
    "\n",
    "•\tIf NaN is treated as an item, it could appear in frequent itemsets if it meets the support threshold.\n",
    "\n",
    "•\tAfter removing NaN, only valid items will be considered, which might result in different frequent itemsets compared to when NaN is treated as a distinct item.\n"
   ]
  },
  {
   "cell_type": "markdown",
   "metadata": {},
   "source": []
  }
 ],
 "metadata": {
  "kernelspec": {
   "display_name": ".venv",
   "language": "python",
   "name": "python3"
  },
  "language_info": {
   "codemirror_mode": {
    "name": "ipython",
    "version": 3
   },
   "file_extension": ".py",
   "mimetype": "text/x-python",
   "name": "python",
   "nbconvert_exporter": "python",
   "pygments_lexer": "ipython3",
   "version": "3.11.9"
  }
 },
 "nbformat": 4,
 "nbformat_minor": 2
}
