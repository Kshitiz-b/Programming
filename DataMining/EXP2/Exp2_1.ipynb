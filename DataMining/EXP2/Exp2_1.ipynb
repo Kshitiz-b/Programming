{
 "cells": [
  {
   "cell_type": "code",
   "execution_count": 1,
   "metadata": {},
   "outputs": [],
   "source": [
    "import pandas as pd\n",
    "\n",
    "# Load the CSV file\n",
    "file_path = \"missing data.csv\"\n",
    "df = pd.read_csv(file_path)"
   ]
  },
  {
   "cell_type": "markdown",
   "metadata": {},
   "source": [
    "### a. Find out how many data is missing in each attribute"
   ]
  },
  {
   "cell_type": "code",
   "execution_count": 2,
   "metadata": {},
   "outputs": [
    {
     "name": "stdout",
     "output_type": "stream",
     "text": [
      "Suburb              0\n",
      "Address             0\n",
      "Rooms               0\n",
      "Type                0\n",
      "Price               0\n",
      "Method              0\n",
      "SellerG             0\n",
      "Date                0\n",
      "Distance            0\n",
      "Postcode            0\n",
      "Bedroom2            0\n",
      "Bathroom            0\n",
      "Car                62\n",
      "Landsize            0\n",
      "BuildingArea     6450\n",
      "YearBuilt        5375\n",
      "CouncilArea      1369\n",
      "Lattitude           0\n",
      "Longtitude          0\n",
      "Regionname          0\n",
      "Propertycount       0\n",
      "dtype: int64\n"
     ]
    }
   ],
   "source": [
    "missing_data = df.isnull().sum()\n",
    "print(missing_data)"
   ]
  },
  {
   "cell_type": "markdown",
   "metadata": {},
   "source": [
    "### b. Fill missing values in 'Car' attribute with the mode"
   ]
  },
  {
   "cell_type": "code",
   "execution_count": 3,
   "metadata": {},
   "outputs": [
    {
     "name": "stderr",
     "output_type": "stream",
     "text": [
      "/var/folders/pw/8vlrhl0n5lvbx2ff4xk6x_mm0000gn/T/ipykernel_35997/786568138.py:2: FutureWarning: A value is trying to be set on a copy of a DataFrame or Series through chained assignment using an inplace method.\n",
      "The behavior will change in pandas 3.0. This inplace method will never work because the intermediate object on which we are setting values always behaves as a copy.\n",
      "\n",
      "For example, when doing 'df[col].method(value, inplace=True)', try using 'df.method({col: value}, inplace=True)' or df[col] = df[col].method(value) instead, to perform the operation inplace on the original object.\n",
      "\n",
      "\n",
      "  df['Car'].fillna(car_mode, inplace=True)\n"
     ]
    }
   ],
   "source": [
    "car_mode = df['Car'].mode()[0]\n",
    "df['Car'].fillna(car_mode, inplace=True)"
   ]
  },
  {
   "cell_type": "markdown",
   "metadata": {},
   "source": [
    "### c. Fill missing values in 'BuildingArea' with linear and quadratic interpolation"
   ]
  },
  {
   "cell_type": "code",
   "execution_count": 4,
   "metadata": {},
   "outputs": [],
   "source": [
    "df['BuildingArea_linear'] = df['BuildingArea'].interpolate(method='linear')\n",
    "df['BuildingArea_quadratic'] = df['BuildingArea'].interpolate(method='quadratic')"
   ]
  },
  {
   "cell_type": "markdown",
   "metadata": {},
   "source": [
    "### d. Fill missing values in 'YearBuilt' with forward fill"
   ]
  },
  {
   "cell_type": "code",
   "execution_count": 5,
   "metadata": {},
   "outputs": [
    {
     "name": "stderr",
     "output_type": "stream",
     "text": [
      "/var/folders/pw/8vlrhl0n5lvbx2ff4xk6x_mm0000gn/T/ipykernel_35997/2510513788.py:1: FutureWarning: A value is trying to be set on a copy of a DataFrame or Series through chained assignment using an inplace method.\n",
      "The behavior will change in pandas 3.0. This inplace method will never work because the intermediate object on which we are setting values always behaves as a copy.\n",
      "\n",
      "For example, when doing 'df[col].method(value, inplace=True)', try using 'df.method({col: value}, inplace=True)' or df[col] = df[col].method(value) instead, to perform the operation inplace on the original object.\n",
      "\n",
      "\n",
      "  df['YearBuilt'].fillna(method='ffill', inplace=True)\n",
      "/var/folders/pw/8vlrhl0n5lvbx2ff4xk6x_mm0000gn/T/ipykernel_35997/2510513788.py:1: FutureWarning: Series.fillna with 'method' is deprecated and will raise in a future version. Use obj.ffill() or obj.bfill() instead.\n",
      "  df['YearBuilt'].fillna(method='ffill', inplace=True)\n"
     ]
    }
   ],
   "source": [
    "df['YearBuilt'].fillna(method='ffill', inplace=True)"
   ]
  },
  {
   "cell_type": "markdown",
   "metadata": {},
   "source": [
    "### e. Remove all rows which don’t have 'CouncilArea' data"
   ]
  },
  {
   "cell_type": "code",
   "execution_count": 6,
   "metadata": {},
   "outputs": [
    {
     "name": "stdout",
     "output_type": "stream",
     "text": [
      "       Suburb           Address  Rooms Type    Price Method SellerG  \\\n",
      "0  Abbotsford      85 Turner St      2    h  1480000      S  Biggin   \n",
      "1  Abbotsford   25 Bloomburg St      2    h  1035000      S  Biggin   \n",
      "2  Abbotsford      5 Charles St      3    h  1465000     SP  Biggin   \n",
      "3  Abbotsford  40 Federation La      3    h   850000     PI  Biggin   \n",
      "4  Abbotsford       55a Park St      4    h  1600000     VB  Nelson   \n",
      "\n",
      "         Date  Distance  Postcode  ...  Landsize  BuildingArea  YearBuilt  \\\n",
      "0  03-12-2016       2.5      3067  ...       202           NaN        NaN   \n",
      "1  04-02-2016       2.5      3067  ...       156          79.0     1900.0   \n",
      "2  04-03-2017       2.5      3067  ...       134         150.0     1900.0   \n",
      "3  04-03-2017       2.5      3067  ...        94           NaN     1900.0   \n",
      "4  04-06-2016       2.5      3067  ...       120         142.0     2014.0   \n",
      "\n",
      "   CouncilArea  Lattitude  Longtitude             Regionname  Propertycount  \\\n",
      "0        Yarra   -37.7996    144.9984  Northern Metropolitan           4019   \n",
      "1        Yarra   -37.8079    144.9934  Northern Metropolitan           4019   \n",
      "2        Yarra   -37.8093    144.9944  Northern Metropolitan           4019   \n",
      "3        Yarra   -37.7969    144.9969  Northern Metropolitan           4019   \n",
      "4        Yarra   -37.8072    144.9941  Northern Metropolitan           4019   \n",
      "\n",
      "   BuildingArea_linear BuildingArea_quadratic  \n",
      "0                  NaN                    NaN  \n",
      "1                 79.0              79.000000  \n",
      "2                150.0             150.000000  \n",
      "3                146.0             148.715056  \n",
      "4                142.0             142.000000  \n",
      "\n",
      "[5 rows x 23 columns]\n"
     ]
    }
   ],
   "source": [
    "df_cleaned = df.dropna(subset=['CouncilArea'])\n",
    "print(df_cleaned.head())"
   ]
  },
  {
   "cell_type": "code",
   "execution_count": null,
   "metadata": {},
   "outputs": [],
   "source": []
  }
 ],
 "metadata": {
  "kernelspec": {
   "display_name": ".venv",
   "language": "python",
   "name": "python3"
  },
  "language_info": {
   "codemirror_mode": {
    "name": "ipython",
    "version": 3
   },
   "file_extension": ".py",
   "mimetype": "text/x-python",
   "name": "python",
   "nbconvert_exporter": "python",
   "pygments_lexer": "ipython3",
   "version": "3.11.9"
  }
 },
 "nbformat": 4,
 "nbformat_minor": 2
}
