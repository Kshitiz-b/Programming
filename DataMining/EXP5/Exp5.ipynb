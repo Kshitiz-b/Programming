{
 "cells": [
  {
   "cell_type": "code",
   "execution_count": 1,
   "metadata": {},
   "outputs": [],
   "source": [
    "import numpy as np\n",
    "from sklearn.feature_extraction.text import CountVectorizer\n",
    "from sklearn.metrics.pairwise import cosine_similarity, euclidean_distances\n",
    "from scipy.spatial.distance import jaccard"
   ]
  },
  {
   "cell_type": "code",
   "execution_count": 2,
   "metadata": {},
   "outputs": [],
   "source": [
    "# Define documents\n",
    "documents = [\"ant ant bee\", \"dog bee dog hog dog ant dog\", \"cat gnu dog eel fox\"]"
   ]
  },
  {
   "cell_type": "code",
   "execution_count": 3,
   "metadata": {},
   "outputs": [],
   "source": [
    "# Create a Count Vectorizer to transform the documents into vectors\n",
    "vectorizer = CountVectorizer()\n",
    "X = vectorizer.fit_transform(documents).toarray()"
   ]
  },
  {
   "cell_type": "code",
   "execution_count": 4,
   "metadata": {},
   "outputs": [],
   "source": [
    "# Calculate cosine similarity\n",
    "cos_sim = cosine_similarity(X)"
   ]
  },
  {
   "cell_type": "code",
   "execution_count": 5,
   "metadata": {},
   "outputs": [],
   "source": [
    "# Calculate Jaccard distance\n",
    "jaccard_distances = np.zeros((len(documents), len(documents)))\n",
    "for i in range(len(documents)):\n",
    "    for j in range(len(documents)):\n",
    "        jaccard_distances[i, j] = jaccard(X[i], X[j])"
   ]
  },
  {
   "cell_type": "code",
   "execution_count": 6,
   "metadata": {},
   "outputs": [],
   "source": [
    "# Calculate Euclidean distance\n",
    "euclidean_dist = euclidean_distances(X)"
   ]
  },
  {
   "cell_type": "code",
   "execution_count": 7,
   "metadata": {},
   "outputs": [],
   "source": [
    "# Function to find most similar pair based on similarity or distance matrix\n",
    "def find_most_similar(matrix, metric_name):\n",
    "    indices = np.unravel_index(np.argmin(matrix + np.eye(len(matrix)) * 1e10), matrix.shape)\n",
    "    print(f\"Most similar documents based on {metric_name}: d{indices[0] + 1} and d{indices[1] + 1}\")"
   ]
  },
  {
   "cell_type": "code",
   "execution_count": 8,
   "metadata": {},
   "outputs": [
    {
     "name": "stdout",
     "output_type": "stream",
     "text": [
      "Cosine Similarity Matrix:\n",
      "[[1.         0.30779351 0.        ]\n",
      " [0.30779351 1.         0.41039134]\n",
      " [0.         0.41039134 1.        ]]\n",
      "Most similar documents based on cosine similarity: d2 and d3\n"
     ]
    }
   ],
   "source": [
    "# Display cosine similarity\n",
    "print(\"Cosine Similarity Matrix:\")\n",
    "print(cos_sim)\n",
    "find_most_similar(-cos_sim, \"cosine similarity\")"
   ]
  },
  {
   "cell_type": "code",
   "execution_count": 9,
   "metadata": {},
   "outputs": [
    {
     "name": "stdout",
     "output_type": "stream",
     "text": [
      "\n",
      "Jaccard Distance Matrix:\n",
      "[[0.   0.75 1.  ]\n",
      " [0.75 0.   1.  ]\n",
      " [1.   1.   0.  ]]\n",
      "Most similar documents based on Jaccard distance: d1 and d2\n"
     ]
    }
   ],
   "source": [
    "# Display Jaccard distances\n",
    "print(\"\\nJaccard Distance Matrix:\")\n",
    "print(jaccard_distances)\n",
    "find_most_similar(jaccard_distances, \"Jaccard distance\")"
   ]
  },
  {
   "cell_type": "code",
   "execution_count": 10,
   "metadata": {},
   "outputs": [
    {
     "name": "stdout",
     "output_type": "stream",
     "text": [
      "\n",
      "Euclidean Distance Matrix:\n",
      "[[0.         4.24264069 3.16227766]\n",
      " [4.24264069 0.         4.        ]\n",
      " [3.16227766 4.         0.        ]]\n",
      "Most similar documents based on Euclidean distance: d1 and d3\n"
     ]
    }
   ],
   "source": [
    "# Display Euclidean distances\n",
    "print(\"\\nEuclidean Distance Matrix:\")\n",
    "print(euclidean_dist)\n",
    "find_most_similar(euclidean_dist, \"Euclidean distance\")"
   ]
  },
  {
   "cell_type": "code",
   "execution_count": null,
   "metadata": {},
   "outputs": [],
   "source": []
  }
 ],
 "metadata": {
  "kernelspec": {
   "display_name": ".venv",
   "language": "python",
   "name": "python3"
  },
  "language_info": {
   "codemirror_mode": {
    "name": "ipython",
    "version": 3
   },
   "file_extension": ".py",
   "mimetype": "text/x-python",
   "name": "python",
   "nbconvert_exporter": "python",
   "pygments_lexer": "ipython3",
   "version": "3.11.10"
  }
 },
 "nbformat": 4,
 "nbformat_minor": 2
}
